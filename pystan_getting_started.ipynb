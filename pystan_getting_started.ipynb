{
 "cells": [
  {
   "cell_type": "markdown",
   "metadata": {},
   "source": [
    "# PyStan workflow\n",
    "\n",
    "https://mc-stan.org/users/documentation/case-studies/pystan_workflow.html"
   ]
  },
  {
   "cell_type": "code",
   "execution_count": 1,
   "metadata": {},
   "outputs": [],
   "source": [
    "import pystan\n",
    "import stan_utility  # for stan diagnostics on model convergence"
   ]
  },
  {
   "cell_type": "markdown",
   "metadata": {},
   "source": [
    "## linear regression"
   ]
  },
  {
   "cell_type": "code",
   "execution_count": 2,
   "metadata": {},
   "outputs": [
    {
     "name": "stderr",
     "output_type": "stream",
     "text": [
      "INFO:pystan:COMPILING THE C++ CODE FOR MODEL anon_model_f4ff4b176c62ab5707905172a2eac0db NOW.\n",
      "/home/wolle/anaconda3/envs/data_science/lib/python3.7/site-packages/Cython/Compiler/Main.py:367: FutureWarning: Cython directive 'language_level' not set, using 2 for now (Py2). This will change in a later release! File: /tmp/tmp1k3u9fz1/stanfit4anon_model_f4ff4b176c62ab5707905172a2eac0db_4261036396647070039.pyx\n",
      "  tree = Parsing.p_module(s, pxd, full_module_name)\n"
     ]
    }
   ],
   "source": [
    "# stan model\n",
    "linear_regression_stan_model = \"\"\" \n",
    "data {\n",
    "  int<lower=0> N; // sample size\n",
    "  vector[N] x; // predictor\n",
    "  vector[N] y; // outcome\n",
    "}\n",
    "parameters {\n",
    "  real alpha;\n",
    "  real beta;\n",
    "  real<lower=0> sigma;\n",
    "}\n",
    "model {\n",
    "  y ~ normal(alpha + beta * x, sigma);\n",
    "  alpha ~ normal(0, 20); // Prior for alpha\n",
    "  beta ~ normal(1, 10); // Prior for beta\n",
    "  sigma ~ uniform(0,10); // Prior for sigma\n",
    "}\n",
    "\"\"\"\n",
    "\n",
    "# compiling the model\n",
    "lr_model = pystan.StanModel(model_code=linear_regression_stan_model)"
   ]
  },
  {
   "cell_type": "code",
   "execution_count": 3,
   "metadata": {},
   "outputs": [],
   "source": [
    "# observed data \n",
    "lin_dat = {'N': 10,\n",
    "           'y': [0.1, 1.1, 1.9, 3, 4.2, 5, 6.6, 7, 7.1, 9.9],\n",
    "           'x': [0, 1, 2, 3, 4, 5, 6, 7, 8, 9]}\n",
    "\n",
    "# fitting the model to the data / calculating the posterior\n",
    "fit = lr_model.sampling(data=lin_dat, iter=1000, chains=4, seed=42)"
   ]
  },
  {
   "cell_type": "code",
   "execution_count": 4,
   "metadata": {},
   "outputs": [
    {
     "name": "stdout",
     "output_type": "stream",
     "text": [
      "Inference for Stan model: anon_model_f4ff4b176c62ab5707905172a2eac0db.\n",
      "4 chains, each with iter=1000; warmup=500; thin=1; \n",
      "post-warmup draws per chain=500, total post-warmup draws=2000.\n",
      "\n",
      "        mean se_mean     sd   2.5%    25%    50%    75%  97.5%  n_eff   Rhat\n",
      "alpha   0.03    0.02    0.4   -0.8   -0.2   0.04   0.26   0.93    526    1.0\n",
      "beta    1.01  3.3e-3   0.07   0.86   0.97   1.01   1.06   1.17    532    1.0\n",
      "sigma   0.59  7.2e-3   0.19   0.35   0.47   0.55   0.68   1.08    665    1.0\n",
      "lp__    0.51    0.08   1.53  -3.55  -0.16   0.93   1.63   2.24    346   1.01\n",
      "\n",
      "Samples were drawn using NUTS at Thu Jun 20 19:31:17 2019.\n",
      "For each parameter, n_eff is a crude measure of effective sample size,\n",
      "and Rhat is the potential scale reduction factor on split chains (at \n",
      "convergence, Rhat=1).\n"
     ]
    }
   ],
   "source": [
    "print(fit)"
   ]
  },
  {
   "cell_type": "markdown",
   "metadata": {},
   "source": [
    "## Validating the fit"
   ]
  },
  {
   "cell_type": "code",
   "execution_count": 6,
   "metadata": {},
   "outputs": [
    {
     "name": "stdout",
     "output_type": "stream",
     "text": [
      "Help on package stan_utility:\n",
      "\n",
      "NAME\n",
      "    stan_utility\n",
      "\n",
      "PACKAGE CONTENTS\n",
      "    __version__\n",
      "    file_utils\n",
      "    save_fit\n",
      "    stan_generator\n",
      "    stan_utility\n",
      "    utils\n",
      "\n",
      "CLASSES\n",
      "    builtins.object\n",
      "        stan_utility.save_fit.StanSavedFit\n",
      "    \n",
      "    class StanSavedFit(builtins.object)\n",
      "     |  StanSavedFit(file_name)\n",
      "     |  \n",
      "     |  Methods defined here:\n",
      "     |  \n",
      "     |  __init__(self, file_name)\n",
      "     |      Load a Stan fit from an HDF5 file created by stanfit_to_hdf5.\n",
      "     |      The parameters are accessed as class attributes.\n",
      "     |      :param file_name: The file name of the saved stan fit\n",
      "     |  \n",
      "     |  display(self)\n",
      "     |      Display the properties of the stan fit parameters\n",
      "     |  \n",
      "     |  ----------------------------------------------------------------------\n",
      "     |  Data descriptors defined here:\n",
      "     |  \n",
      "     |  __dict__\n",
      "     |      dictionary for instance variables (if defined)\n",
      "     |  \n",
      "     |  __weakref__\n",
      "     |      list of weak references to the object (if defined)\n",
      "\n",
      "FUNCTIONS\n",
      "    check_all_diagnostics(fit, max_treedepth=10, quiet=False)\n",
      "        Checks all MCMC diagnostics\n",
      "    \n",
      "    compile_model(filename, model_name=None, **kwargs)\n",
      "        This will automatically cache models - great if you're just running a\n",
      "        script on the command line.\n",
      "        \n",
      "        See http://pystan.readthedocs.io/en/latest/avoiding_recompilation.html\n",
      "    \n",
      "    stanfit_to_hdf5(fit, file_name)\n",
      "        Write the parameters from a stan fit into a simple hdf5 file \n",
      "        \n",
      "        :param fit: Stan fit object to save\n",
      "        :param file_name: file to save the HDF5 data\n",
      "\n",
      "DATA\n",
      "    __all__ = ['stanfit_to_hdf5', 'StanSavedFit', 'compile_model', 'check_...\n",
      "\n",
      "FILE\n",
      "    /home/wolle/anaconda3/envs/data_science/lib/python3.7/site-packages/stan_utility/__init__.py\n",
      "\n",
      "\n"
     ]
    }
   ],
   "source": [
    "help(stan_utility)"
   ]
  },
  {
   "cell_type": "code",
   "execution_count": 7,
   "metadata": {},
   "outputs": [
    {
     "name": "stdout",
     "output_type": "stream",
     "text": [
      "n_eff / iter looks reasonable for all parameters\n",
      "Rhat looks reasonable for all parameters\n",
      "0.0 of 2000 iterations ended with a divergence (0.0%)\n",
      "0 of 2000 iterations saturated the maximum tree depth of 10 (0.0%)\n",
      "E-BFMI indicated no pathological behavior\n"
     ]
    }
   ],
   "source": [
    "stan_utility.check_all_diagnostics(fit)"
   ]
  }
 ],
 "metadata": {
  "kernelspec": {
   "display_name": "Python [conda env:data_science] *",
   "language": "python",
   "name": "conda-env-data_science-py"
  },
  "language_info": {
   "codemirror_mode": {
    "name": "ipython",
    "version": 3
   },
   "file_extension": ".py",
   "mimetype": "text/x-python",
   "name": "python",
   "nbconvert_exporter": "python",
   "pygments_lexer": "ipython3",
   "version": "3.7.3"
  }
 },
 "nbformat": 4,
 "nbformat_minor": 2
}
