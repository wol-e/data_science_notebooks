{
 "cells": [
  {
   "cell_type": "code",
   "execution_count": 8,
   "id": "minor-education",
   "metadata": {},
   "outputs": [],
   "source": [
    "import gc\n",
    "import numpy as np\n",
    "import pandas as pd\n",
    "\n",
    "from scipy.sparse import coo_matrix, csr_matrix\n",
    "from tqdm.notebook import tqdm"
   ]
  },
  {
   "cell_type": "code",
   "execution_count": 2,
   "id": "opposed-specialist",
   "metadata": {},
   "outputs": [
    {
     "data": {
      "text/plain": [
       "['movie_titles.csv',\n",
       " 'combined_data_4.txt',\n",
       " 'combined_data_3.txt',\n",
       " 'qualifying.txt',\n",
       " 'combined_data_2.txt',\n",
       " 'probe.txt',\n",
       " 'combined_data_1.txt',\n",
       " 'README',\n",
       " 'archive.zip']"
      ]
     },
     "execution_count": 2,
     "metadata": {},
     "output_type": "execute_result"
    }
   ],
   "source": [
    "import os\n",
    "\n",
    "os.listdir(\"./data\")"
   ]
  },
  {
   "cell_type": "code",
   "execution_count": 3,
   "id": "dressed-saudi",
   "metadata": {},
   "outputs": [
    {
     "name": "stdout",
     "output_type": "stream",
     "text": [
      "1:\n",
      "\n",
      "1488844,3,2005-09-06\n",
      "\n",
      "822109,5,2005-05-13\n",
      "\n",
      "885013,4,2005-10-19\n",
      "\n"
     ]
    }
   ],
   "source": [
    "\"\"\"A sample of the file format (details in README.md)\"\"\"\n",
    "\n",
    "with open(\"./data/combined_data_1.txt\") as f:\n",
    "    for i in range(4):\n",
    "        print(f.readline())\n",
    "        \n",
    "# movie id:\n",
    "# user_id, rating, date"
   ]
  },
  {
   "cell_type": "code",
   "execution_count": 4,
   "id": "secret-crowd",
   "metadata": {},
   "outputs": [
    {
     "name": "stdout",
     "output_type": "stream",
     "text": [
      "processing ./data/combined_data_1.txt...\n"
     ]
    },
    {
     "data": {
      "application/vnd.jupyter.widget-view+json": {
       "model_id": "a78e8bd440894dae8863ccfef3985567",
       "version_major": 2,
       "version_minor": 0
      },
      "text/plain": [
       "0it [00:00, ?it/s]"
      ]
     },
     "metadata": {},
     "output_type": "display_data"
    },
    {
     "name": "stdout",
     "output_type": "stream",
     "text": [
      "processing ./data/combined_data_2.txt...\n"
     ]
    },
    {
     "data": {
      "application/vnd.jupyter.widget-view+json": {
       "model_id": "7a96b2ff2c9b48699ea1914f2b8bba10",
       "version_major": 2,
       "version_minor": 0
      },
      "text/plain": [
       "0it [00:00, ?it/s]"
      ]
     },
     "metadata": {},
     "output_type": "display_data"
    }
   ],
   "source": [
    "# read function and transformation are based on this notebook \n",
    "# https://www.kaggle.com/sh1ngg/netflix-matrix-factorization-with-h2o4gpu\n",
    "\n",
    "# reading all data fills my ram :/\n",
    "files = [\n",
    "    './data/combined_data_1.txt',\n",
    "    './data/combined_data_2.txt',\n",
    "    #'./data/combined_data_3.txt',\n",
    "    #'./data/combined_data_4.txt',\n",
    "]\n",
    "\n",
    "coo_row = []\n",
    "coo_col = []\n",
    "coo_val = []\n",
    "\n",
    "for file in files:\n",
    "    print(f\"processing {file}...\")\n",
    "    with open(file, \"r\") as f:\n",
    "        movie = -1\n",
    "        for line in tqdm(f):\n",
    "            if line.endswith(':\\n'):\n",
    "                movie = int(line[:-2]) - 1  # why - 1?\n",
    "                continue\n",
    "            assert movie >= 0\n",
    "            splitted = line.split(',')\n",
    "            user = int(splitted[0])\n",
    "            rating = float(splitted[1])\n",
    "            coo_row.append(user)\n",
    "            coo_col.append(movie)\n",
    "            coo_val.append(rating)\n",
    "    gc.collect()"
   ]
  },
  {
   "cell_type": "code",
   "execution_count": 5,
   "id": "timely-consciousness",
   "metadata": {},
   "outputs": [
    {
     "name": "stdout",
     "output_type": "stream",
     "text": [
      "51031355 51031355 51031355\n"
     ]
    }
   ],
   "source": [
    "# trandformation\n",
    "\n",
    "coo_val = np.array(coo_val, dtype=np.float32)  # rating\n",
    "coo_col = np.array(coo_col, dtype=np.int32)  # movie\n",
    "coo_row = np.array(coo_row)  # user\n",
    "\n",
    "_, indices = np.unique(coo_row, return_inverse=True)\n",
    "del _, coo_row\n",
    "\n",
    "gc.collect()\n",
    "\n",
    "print(len(coo_val), len(indices), len(coo_col))"
   ]
  },
  {
   "cell_type": "code",
   "execution_count": 6,
   "id": "informed-crazy",
   "metadata": {},
   "outputs": [
    {
     "name": "stdout",
     "output_type": "stream",
     "text": [
      "R matrix size (478018, 9210)\n"
     ]
    },
    {
     "data": {
      "text/plain": [
       "20"
      ]
     },
     "execution_count": 6,
     "metadata": {},
     "output_type": "execute_result"
    }
   ],
   "source": [
    "coo_movies = coo_matrix((coo_val, (indices, coo_col)))\n",
    "shape = coo_movies.shape\n",
    "print('R matrix size', shape)\n",
    "\n",
    "gc.collect()"
   ]
  },
  {
   "cell_type": "code",
   "execution_count": 12,
   "id": "incoming-accuracy",
   "metadata": {},
   "outputs": [
    {
     "name": "stdout",
     "output_type": "stream",
     "text": [
      "  (0, 29)\t3.0\n"
     ]
    }
   ],
   "source": [
    "csr_matrix(coo_movies)[0, 0:100]"
   ]
  }
 ],
 "metadata": {
  "kernelspec": {
   "display_name": "Python 3",
   "language": "python",
   "name": "python3"
  },
  "language_info": {
   "codemirror_mode": {
    "name": "ipython",
    "version": 3
   },
   "file_extension": ".py",
   "mimetype": "text/x-python",
   "name": "python",
   "nbconvert_exporter": "python",
   "pygments_lexer": "ipython3",
   "version": "3.8.3"
  }
 },
 "nbformat": 4,
 "nbformat_minor": 5
}
